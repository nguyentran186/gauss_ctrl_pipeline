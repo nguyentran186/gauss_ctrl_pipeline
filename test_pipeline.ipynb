{
 "cells": [
  {
   "cell_type": "code",
   "execution_count": 2,
   "id": "e2d9614e-a8a0-47f5-868b-d379c59d6e81",
   "metadata": {},
   "outputs": [
    {
     "ename": "ModuleNotFoundError",
     "evalue": "No module named 'lang_sam'",
     "output_type": "error",
     "traceback": [
      "\u001b[0;31m---------------------------------------------------------------------------\u001b[0m",
      "\u001b[0;31mModuleNotFoundError\u001b[0m                       Traceback (most recent call last)",
      "Cell \u001b[0;32mIn[2], line 1\u001b[0m\n\u001b[0;32m----> 1\u001b[0m \u001b[38;5;28;01mfrom\u001b[39;00m \u001b[38;5;21;01mControlNetPipeline\u001b[39;00m \u001b[38;5;28;01mimport\u001b[39;00m GaussCtrlPipeline, GaussCtrlPipelineConfig\n\u001b[1;32m      3\u001b[0m pipe \u001b[38;5;241m=\u001b[39m GaussCtrlPipeline(GaussCtrlPipelineConfig(), \u001b[38;5;124m'\u001b[39m\u001b[38;5;124mdata/statue\u001b[39m\u001b[38;5;124m'\u001b[39m)\n",
      "File \u001b[0;32m~/.code/gauss_ctrl_pipeline/ControlNetPipeline.py:11\u001b[0m\n\u001b[1;32m      7\u001b[0m \u001b[38;5;28;01mfrom\u001b[39;00m \u001b[38;5;21;01mtyping_extensions\u001b[39;00m \u001b[38;5;28;01mimport\u001b[39;00m Literal\n\u001b[1;32m      8\u001b[0m \u001b[38;5;28;01mfrom\u001b[39;00m \u001b[38;5;21;01mdataclasses\u001b[39;00m \u001b[38;5;28;01mimport\u001b[39;00m dataclass, field\n\u001b[0;32m---> 11\u001b[0m \u001b[38;5;28;01mfrom\u001b[39;00m \u001b[38;5;21;01mlang_sam\u001b[39;00m \u001b[38;5;28;01mimport\u001b[39;00m LangSAM\n\u001b[1;32m     12\u001b[0m \u001b[38;5;28;01mimport\u001b[39;00m \u001b[38;5;21;01mutils\u001b[39;00m\n\u001b[1;32m     13\u001b[0m \u001b[38;5;28;01mfrom\u001b[39;00m \u001b[38;5;21;01mcopy\u001b[39;00m \u001b[38;5;28;01mimport\u001b[39;00m deepcopy\n",
      "\u001b[0;31mModuleNotFoundError\u001b[0m: No module named 'lang_sam'"
     ]
    }
   ],
   "source": [
    "from ControlNetPipeline import GaussCtrlPipeline, GaussCtrlPipelineConfig\n",
    "\n",
    "pipe = GaussCtrlPipeline(GaussCtrlPipelineConfig(), 'data/statue')"
   ]
  },
  {
   "cell_type": "code",
   "execution_count": null,
   "id": "feee7090-f396-423e-baf2-51f7407894a4",
   "metadata": {},
   "outputs": [],
   "source": [
    "import lang"
   ]
  }
 ],
 "metadata": {
  "kernelspec": {
   "display_name": "Python 3 (ipykernel)",
   "language": "python",
   "name": "python3"
  },
  "language_info": {
   "codemirror_mode": {
    "name": "ipython",
    "version": 3
   },
   "file_extension": ".py",
   "mimetype": "text/x-python",
   "name": "python",
   "nbconvert_exporter": "python",
   "pygments_lexer": "ipython3",
   "version": "3.10.12"
  }
 },
 "nbformat": 4,
 "nbformat_minor": 5
}
